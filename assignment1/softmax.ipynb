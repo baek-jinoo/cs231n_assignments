{
 "cells": [
  {
   "cell_type": "markdown",
   "metadata": {},
   "source": [
    "# Softmax exercise\n",
    "\n",
    "*Complete and hand in this completed worksheet (including its outputs and any supporting code outside of the worksheet) with your assignment submission. For more details see the [assignments page](http://vision.stanford.edu/teaching/cs231n/assignments.html) on the course website.*\n",
    "\n",
    "This exercise is analogous to the SVM exercise. You will:\n",
    "\n",
    "- implement a fully-vectorized **loss function** for the Softmax classifier\n",
    "- implement the fully-vectorized expression for its **analytic gradient**\n",
    "- **check your implementation** with numerical gradient\n",
    "- use a validation set to **tune the learning rate and regularization** strength\n",
    "- **optimize** the loss function with **SGD**\n",
    "- **visualize** the final learned weights\n"
   ]
  },
  {
   "cell_type": "code",
   "execution_count": 2,
   "metadata": {
    "collapsed": false
   },
   "outputs": [
    {
     "data": {
      "application/javascript": [
       "if (!(\"Notification\" in window)) {\n",
       "    alert(\"This browser does not support desktop notifications, so the %%notify magic will not work.\");\n",
       "} else if (Notification.permission !== 'granted' && Notification.permission !== 'denied') {\n",
       "    Notification.requestPermission(function (permission) {\n",
       "        if(!('permission' in Notification)) {\n",
       "            Notification.permission = permission;\n",
       "        }\n",
       "    })\n",
       "}\n"
      ],
      "text/plain": [
       "<IPython.core.display.Javascript object>"
      ]
     },
     "metadata": {},
     "output_type": "display_data"
    }
   ],
   "source": [
    "import random\n",
    "import numpy as np\n",
    "from cs231n.data_utils import load_CIFAR10\n",
    "import matplotlib.pyplot as plt\n",
    "\n",
    "from __future__ import print_function\n",
    "\n",
    "%matplotlib inline\n",
    "plt.rcParams['figure.figsize'] = (10.0, 8.0) # set default size of plots\n",
    "plt.rcParams['image.interpolation'] = 'nearest'\n",
    "plt.rcParams['image.cmap'] = 'gray'\n",
    "\n",
    "# for auto-reloading extenrnal modules\n",
    "# see http://stackoverflow.com/questions/1907993/autoreload-of-modules-in-ipython\n",
    "%load_ext jupyternotify\n",
    "%load_ext autoreload\n",
    "%autoreload 2"
   ]
  },
  {
   "cell_type": "code",
   "execution_count": 3,
   "metadata": {
    "collapsed": false
   },
   "outputs": [
    {
     "name": "stdout",
     "output_type": "stream",
     "text": [
      "Train data shape:  (49000, 3073)\n",
      "Train labels shape:  (49000,)\n",
      "Validation data shape:  (1000, 3073)\n",
      "Validation labels shape:  (1000,)\n",
      "Test data shape:  (1000, 3073)\n",
      "Test labels shape:  (1000,)\n",
      "dev data shape:  (500, 3073)\n",
      "dev labels shape:  (500,)\n"
     ]
    }
   ],
   "source": [
    "def get_CIFAR10_data(num_training=49000, num_validation=1000, num_test=1000, num_dev=500):\n",
    "    \"\"\"\n",
    "    Load the CIFAR-10 dataset from disk and perform preprocessing to prepare\n",
    "    it for the linear classifier. These are the same steps as we used for the\n",
    "    SVM, but condensed to a single function.  \n",
    "    \"\"\"\n",
    "    # Load the raw CIFAR-10 data\n",
    "    cifar10_dir = 'cs231n/datasets/cifar-10-batches-py'\n",
    "    X_train, y_train, X_test, y_test = load_CIFAR10(cifar10_dir)\n",
    "    \n",
    "    # subsample the data\n",
    "    mask = list(range(num_training, num_training + num_validation))\n",
    "    X_val = X_train[mask]\n",
    "    y_val = y_train[mask]\n",
    "    mask = list(range(num_training))\n",
    "    X_train = X_train[mask]\n",
    "    y_train = y_train[mask]\n",
    "    mask = list(range(num_test))\n",
    "    X_test = X_test[mask]\n",
    "    y_test = y_test[mask]\n",
    "    mask = np.random.choice(num_training, num_dev, replace=False)\n",
    "    X_dev = X_train[mask]\n",
    "    y_dev = y_train[mask]\n",
    "    \n",
    "    # Preprocessing: reshape the image data into rows\n",
    "    X_train = np.reshape(X_train, (X_train.shape[0], -1))\n",
    "    X_val = np.reshape(X_val, (X_val.shape[0], -1))\n",
    "    X_test = np.reshape(X_test, (X_test.shape[0], -1))\n",
    "    X_dev = np.reshape(X_dev, (X_dev.shape[0], -1))\n",
    "    \n",
    "    # Normalize the data: subtract the mean image\n",
    "    mean_image = np.mean(X_train, axis = 0)\n",
    "    X_train -= mean_image\n",
    "    X_val -= mean_image\n",
    "    X_test -= mean_image\n",
    "    X_dev -= mean_image\n",
    "    \n",
    "    # add bias dimension and transform into columns\n",
    "    X_train = np.hstack([X_train, np.ones((X_train.shape[0], 1))])\n",
    "    X_val = np.hstack([X_val, np.ones((X_val.shape[0], 1))])\n",
    "    X_test = np.hstack([X_test, np.ones((X_test.shape[0], 1))])\n",
    "    X_dev = np.hstack([X_dev, np.ones((X_dev.shape[0], 1))])\n",
    "    \n",
    "    return X_train, y_train, X_val, y_val, X_test, y_test, X_dev, y_dev\n",
    "\n",
    "\n",
    "# Invoke the above function to get our data.\n",
    "X_train, y_train, X_val, y_val, X_test, y_test, X_dev, y_dev = get_CIFAR10_data()\n",
    "print('Train data shape: ', X_train.shape)\n",
    "print('Train labels shape: ', y_train.shape)\n",
    "print('Validation data shape: ', X_val.shape)\n",
    "print('Validation labels shape: ', y_val.shape)\n",
    "print('Test data shape: ', X_test.shape)\n",
    "print('Test labels shape: ', y_test.shape)\n",
    "print('dev data shape: ', X_dev.shape)\n",
    "print('dev labels shape: ', y_dev.shape)"
   ]
  },
  {
   "cell_type": "markdown",
   "metadata": {},
   "source": [
    "## Softmax Classifier\n",
    "\n",
    "Your code for this section will all be written inside **cs231n/classifiers/softmax.py**. \n"
   ]
  },
  {
   "cell_type": "code",
   "execution_count": 27,
   "metadata": {
    "collapsed": false
   },
   "outputs": [
    {
     "name": "stdout",
     "output_type": "stream",
     "text": [
      "loss: 2.545539\n",
      "sanity check: 2.302585\n"
     ]
    }
   ],
   "source": [
    "# First implement the naive softmax loss function with nested loops.\n",
    "# Open the file cs231n/classifiers/softmax.py and implement the\n",
    "# softmax_loss_naive function.\n",
    "\n",
    "from cs231n.classifiers.softmax import softmax_loss_naive\n",
    "import time\n",
    "\n",
    "# Generate a random softmax weight matrix and use it to compute the loss.\n",
    "W = np.random.randn(3073, 10) * 0.0001\n",
    "loss, grad = softmax_loss_naive(W, X_dev, y_dev, 0.0)\n",
    "\n",
    "# As a rough sanity check, our loss should be something close to -log(0.1).\n",
    "print('loss: %f' % loss)\n",
    "print('sanity check: %f' % (-np.log(0.1)))"
   ]
  },
  {
   "cell_type": "markdown",
   "metadata": {},
   "source": [
    "## Inline Question 1:\n",
    "**Why do we expect our loss to be close to -log(0.1)? Explain briefly.**\n",
    "\n",
    "**Your answer:** This is because the softmax loss function outputs the approximate probability of the outcome of the label scores over all scores. If the weights are random, it should be equivalent to picking 1 out of 10 at random.\n"
   ]
  },
  {
   "cell_type": "code",
   "execution_count": 41,
   "metadata": {
    "collapsed": false
   },
   "outputs": [
    {
     "name": "stdout",
     "output_type": "stream",
     "text": [
      "numerical: -0.520080 analytic: -0.520075, relative error: 3.979034e-06\n",
      "numerical: 6.763525 analytic: 6.763526, relative error: 1.194378e-07\n",
      "numerical: 3.170853 analytic: 3.170858, relative error: 6.965789e-07\n",
      "numerical: 5.029454 analytic: 5.029458, relative error: 3.645042e-07\n",
      "numerical: -12.287985 analytic: -12.287978, relative error: 2.810755e-07\n",
      "numerical: 3.737887 analytic: 3.737890, relative error: 3.420428e-07\n",
      "numerical: 8.678035 analytic: 8.678038, relative error: 1.476310e-07\n",
      "numerical: -18.046118 analytic: -18.046111, relative error: 1.828183e-07\n",
      "numerical: 9.283814 analytic: 9.283816, relative error: 1.172510e-07\n",
      "numerical: 1.715070 analytic: 1.715075, relative error: 1.476605e-06\n",
      "numerical: -10.154182 analytic: -10.154176, relative error: 2.618243e-07\n",
      "numerical: 8.348545 analytic: 8.348548, relative error: 1.769502e-07\n",
      "numerical: -9.548582 analytic: -9.548577, relative error: 2.708950e-07\n",
      "numerical: 10.065860 analytic: 10.065863, relative error: 1.661514e-07\n",
      "numerical: -19.899357 analytic: -19.899351, relative error: 1.363421e-07\n",
      "numerical: 2.904380 analytic: 2.904383, relative error: 5.882963e-07\n",
      "numerical: 2.229838 analytic: 2.229842, relative error: 8.468532e-07\n",
      "numerical: 7.771719 analytic: 7.771721, relative error: 1.097479e-07\n",
      "numerical: 4.671006 analytic: 4.671010, relative error: 3.846472e-07\n",
      "numerical: 0.058412 analytic: 0.058416, relative error: 3.307039e-05\n"
     ]
    }
   ],
   "source": [
    "# Complete the implementation of softmax_loss_naive and implement a (naive)\n",
    "# version of the gradient that uses nested loops.\n",
    "loss, grad = softmax_loss_naive(W, X_dev, y_dev, 0.0)\n",
    "\n",
    "# As we did for the SVM, use numeric gradient checking as a debugging tool.\n",
    "# The numeric gradient should be close to the analytic gradient.\n",
    "from cs231n.gradient_check import grad_check_sparse\n",
    "f = lambda w: softmax_loss_naive(w, X_dev, y_dev, 0.0)[0]\n",
    "grad_numerical = grad_check_sparse(f, W, grad, 10)\n",
    "\n",
    "# similar to SVM case, do another gradient check with regularization\n",
    "loss, grad = softmax_loss_naive(W, X_dev, y_dev, 5e1)\n",
    "f = lambda w: softmax_loss_naive(w, X_dev, y_dev, 5e1)[0]\n",
    "grad_numerical = grad_check_sparse(f, W, grad, 10)"
   ]
  },
  {
   "cell_type": "code",
   "execution_count": 65,
   "metadata": {
    "collapsed": false
   },
   "outputs": [
    {
     "name": "stdout",
     "output_type": "stream",
     "text": [
      "naive loss: 2.545539e+00 computed in 0.142249s\n",
      "vectorized loss: 2.545539e+00 computed in 0.005621s\n",
      "Loss difference: 0.000000\n",
      "Gradient difference: 0.000000\n"
     ]
    }
   ],
   "source": [
    "# Now that we have a naive implementation of the softmax loss function and its gradient,\n",
    "# implement a vectorized version in softmax_loss_vectorized.\n",
    "# The two versions should compute the same results, but the vectorized version should be\n",
    "# much faster.\n",
    "tic = time.time()\n",
    "loss_naive, grad_naive = softmax_loss_naive(W, X_dev, y_dev, 0.000005)\n",
    "toc = time.time()\n",
    "print('naive loss: %e computed in %fs' % (loss_naive, toc - tic))\n",
    "\n",
    "from cs231n.classifiers.softmax import softmax_loss_vectorized\n",
    "tic = time.time()\n",
    "loss_vectorized, grad_vectorized = softmax_loss_vectorized(W, X_dev, y_dev, 0.000005)\n",
    "toc = time.time()\n",
    "print('vectorized loss: %e computed in %fs' % (loss_vectorized, toc - tic))\n",
    "\n",
    "# As we did for the SVM, we use the Frobenius norm to compare the two versions\n",
    "# of the gradient.\n",
    "grad_difference = np.linalg.norm(grad_naive - grad_vectorized, ord='fro')\n",
    "print('Loss difference: %f' % np.abs(loss_naive - loss_vectorized))\n",
    "print('Gradient difference: %f' % grad_difference)"
   ]
  },
  {
   "cell_type": "code",
   "execution_count": 118,
   "metadata": {
    "collapsed": false
   },
   "outputs": [
    {
     "name": "stdout",
     "output_type": "stream",
     "text": [
      "iteration 0 / 800: loss 719.141245\n",
      "iteration 100 / 800: loss 2.108787\n",
      "iteration 200 / 800: loss 2.124646\n",
      "iteration 300 / 800: loss 2.086873\n",
      "iteration 400 / 800: loss 2.098172\n",
      "iteration 500 / 800: loss 2.159201\n",
      "iteration 600 / 800: loss 2.093112\n",
      "iteration 700 / 800: loss 2.084439\n",
      "iteration 0 / 800: loss 853.220812\n",
      "iteration 100 / 800: loss 2.141216\n",
      "iteration 200 / 800: loss 2.105704\n",
      "iteration 300 / 800: loss 2.104083\n",
      "iteration 400 / 800: loss 2.112678\n",
      "iteration 500 / 800: loss 2.107261\n",
      "iteration 600 / 800: loss 2.126322\n",
      "iteration 700 / 800: loss 2.121291\n",
      "iteration 0 / 800: loss 723.743457\n",
      "iteration 100 / 800: loss 2.113925\n",
      "iteration 200 / 800: loss 2.053720\n",
      "iteration 300 / 800: loss 2.124728\n",
      "iteration 400 / 800: loss 2.108736\n",
      "iteration 500 / 800: loss 2.051341\n",
      "iteration 600 / 800: loss 2.116596\n",
      "iteration 700 / 800: loss 2.057888\n",
      "iteration 0 / 800: loss 840.867382\n",
      "iteration 100 / 800: loss 2.111860\n",
      "iteration 200 / 800: loss 2.133866\n",
      "iteration 300 / 800: loss 2.143685\n",
      "iteration 400 / 800: loss 2.106874\n",
      "iteration 500 / 800: loss 2.092857\n",
      "iteration 600 / 800: loss 2.081524\n",
      "iteration 700 / 800: loss 2.038236\n",
      "lr 1.274630e-06 reg 2.340966e+04 train accuracy: 0.319286 val accuracy: 0.336000\n",
      "lr 1.274630e-06 reg 2.720612e+04 train accuracy: 0.320592 val accuracy: 0.349000\n",
      "lr 1.523365e-06 reg 2.340966e+04 train accuracy: 0.310714 val accuracy: 0.318000\n",
      "lr 1.523365e-06 reg 2.720612e+04 train accuracy: 0.321612 val accuracy: 0.322000\n",
      "best validation accuracy achieved during cross-validation: 0.349000\n"
     ]
    }
   ],
   "source": [
    "# Use the validation set to tune hyperparameters (regularization strength and\n",
    "# learning rate). You should experiment with different ranges for the learning\n",
    "# rates and regularization strengths; if you are careful you should be able to\n",
    "# get a classification accuracy of over 0.35 on the validation set.\n",
    "from cs231n.classifiers import Softmax\n",
    "results = {}\n",
    "best_val = -1\n",
    "best_softmax = None\n",
    "\n",
    "#Trial 1\n",
    "#learning_rates = [np.random.uniform(1e-7, 1e-6) for _ in range(6)] #[1e-7, 5e-7]\n",
    "#regularization_strengths =  [np.random.uniform(2.5e3, 5e5) for _ in range(6)] #[2.5e4, 5e4]\n",
    "\n",
    "#Trial 2\n",
    "# mid_lr = 7.883218e-07\n",
    "# learning_rates = [np.random.uniform(mid_lr * 0.5, mid_lr * 1.5) for _ in range(6)] #[1e-7, 5e-7]\n",
    "# mid_reg = 4.460189e+05\n",
    "# regularization_strengths =  [np.random.uniform(mid_reg * 0.5, mid_reg * 1.5) for _ in range(6)] #[2.5e4, 5e4]\n",
    "# num_iter = 10\n",
    "\n",
    "#Trial 3\n",
    "# mid_lr = 5.475168e-07\n",
    "# learning_rates = [np.random.uniform(mid_lr * 0.2, mid_lr * 2.0) for _ in range(8)] #[1e-7, 5e-7]\n",
    "# mid_reg = 3.441457e+05\n",
    "# regularization_strengths =  [np.random.uniform(mid_reg * 0.2, mid_reg * 2.0) for _ in range(8)] #[2.5e4, 5e4]\n",
    "# num_iter = 20\n",
    "\n",
    "# Trial 4\n",
    "\n",
    "# learning_rates = []\n",
    "# for exponent in range(3, 9):\n",
    "#     for _ in range(2):\n",
    "#         learning_rates.append(np.random.uniform(10**(-exponent), 10**(-exponent+1)))\n",
    "\n",
    "# regularization_strengths = []\n",
    "# for exponent in range(2, 6):\n",
    "#     for _ in range(2):\n",
    "#         regularization_strengths.append(np.random.uniform(10**(exponent), 10**(exponent+1)))\n",
    "# print(learning_rates)\n",
    "# print(regularization_strengths)\n",
    "# num_iter = 12\n",
    "\n",
    "# Trial 5\n",
    "\n",
    "# learning_rates = []\n",
    "# for exponent in range(6, 8):\n",
    "#     for _ in range(5):\n",
    "#         learning_rates.append(np.random.uniform(10**(-exponent), 10**(-exponent+1)))\n",
    "\n",
    "# regularization_strengths = []\n",
    "# for exponent in range(2, 6):\n",
    "#     for _ in range(3):\n",
    "#         regularization_strengths.append(np.random.uniform(10**(exponent), 10**(exponent+1)))\n",
    "# print(learning_rates)\n",
    "# print(regularization_strengths)\n",
    "# num_iter = 16\n",
    "\n",
    "# Trial 6\n",
    "\n",
    "# learning_rates = []\n",
    "# for exponent in range(6, 7):\n",
    "#     for _ in range(8):\n",
    "#         learning_rates.append(np.random.uniform(8*10**(-exponent-1), 2*10**(-exponent)))\n",
    "\n",
    "# regularization_strengths = []\n",
    "# for exponent in range(4, 6):\n",
    "#     for _ in range(2):\n",
    "#         regularization_strengths.append(np.random.uniform(10**(exponent), 10**(exponent+1)))\n",
    "# print(learning_rates)\n",
    "# print(regularization_strengths)\n",
    "# num_iter = 32\n",
    "\n",
    "# Trial 7\n",
    "\n",
    "# learning_rates = []\n",
    "# for _ in range(10):\n",
    "#     learning_rates.append(np.random.uniform(1.507027e-06 * 0.8, 1.755822e-06 * 1.2))\n",
    "\n",
    "# regularization_strengths = []\n",
    "# mid_reg = 3.052779e+04\n",
    "# for _ in range(4):\n",
    "#     regularization_strengths.append(np.random.uniform(mid_reg * 0.8, mid_reg * 1.2))\n",
    "# print(learning_rates)\n",
    "# print(regularization_strengths)\n",
    "# num_iter = 64\n",
    "\n",
    "#Trial 8\n",
    "\n",
    "# learning_rates = []\n",
    "# mid_lr = 1.290830e-06\n",
    "# for _ in range(10):\n",
    "#     learning_rates.append(np.random.uniform(mid_lr * 0.8, mid_lr * 1.2))\n",
    "\n",
    "# regularization_strengths = []\n",
    "# mid_reg = 2.793669e+04\n",
    "# for _ in range(4):\n",
    "#     regularization_strengths.append(np.random.uniform(mid_reg * 0.8, mid_reg * 1.2))\n",
    "# print(learning_rates)\n",
    "# print(regularization_strengths)\n",
    "# num_iter = 200\n",
    "\n",
    "#Trial 9\n",
    "\n",
    "learning_rates = [1.523365e-06, 1.274630e-06]\n",
    "regularization_strengths = [2.340966e+04, 2.720612e+04]\n",
    "\n",
    "num_iter = 800\n",
    "\n",
    "from cs231n.classifiers.softmax import softmax_loss_vectorized\n",
    "\n",
    "################################################################################\n",
    "# TODO:                                                                        #\n",
    "# Use the validation set to set the learning rate and regularization strength. #\n",
    "# This should be identical to the validation that you did for the SVM; save    #\n",
    "# the best trained softmax classifer in best_softmax.                          #\n",
    "################################################################################\n",
    "for learning_rate in learning_rates:\n",
    "    for regularization_strength in regularization_strengths:\n",
    "        temp_softmax = Softmax()\n",
    "        losses = temp_softmax.train(X_train,\n",
    "                                        y_train,\n",
    "                                        learning_rate=learning_rate,\n",
    "                                        reg=regularization_strength,\n",
    "                                        num_iters=num_iter,\n",
    "                                        batch_size=200,\n",
    "                                        verbose=True\n",
    "                                       )\n",
    "        \n",
    "        y_train_pred = temp_softmax.predict(X_train)\n",
    "        train_acc = np.mean(y_train_pred == y_train)\n",
    "        \n",
    "        y_val_pred = temp_softmax.predict(X_val)\n",
    "        val_acc = np.mean(y_val_pred == y_val)\n",
    "        \n",
    "        if best_val < val_acc:\n",
    "            best_val = val_acc\n",
    "            best_softmax = temp_softmax\n",
    "        results[(learning_rate, regularization_strength)] = (train_acc, val_acc)\n",
    "        \n",
    "################################################################################\n",
    "#                              END OF YOUR CODE                                #\n",
    "################################################################################\n",
    "    \n",
    "# Print out results.\n",
    "for lr, reg in sorted(results):\n",
    "    train_accuracy, val_accuracy = results[(lr, reg)]\n",
    "    print('lr %e reg %e train accuracy: %f val accuracy: %f' % (\n",
    "                lr, reg, train_accuracy, val_accuracy))\n",
    "    \n",
    "print('best validation accuracy achieved during cross-validation: %f' % best_val)"
   ]
  },
  {
   "cell_type": "code",
   "execution_count": 119,
   "metadata": {
    "collapsed": false
   },
   "outputs": [
    {
     "name": "stdout",
     "output_type": "stream",
     "text": [
      "softmax on raw pixels final test set accuracy: 0.343000\n"
     ]
    }
   ],
   "source": [
    "# evaluate on test set\n",
    "# Evaluate the best softmax on test set\n",
    "y_test_pred = best_softmax.predict(X_test)\n",
    "test_accuracy = np.mean(y_test == y_test_pred)\n",
    "print('softmax on raw pixels final test set accuracy: %f' % (test_accuracy, ))"
   ]
  },
  {
   "cell_type": "code",
   "execution_count": 120,
   "metadata": {
    "collapsed": false
   },
   "outputs": [
    {
     "data": {
      "image/png": "[encoded data removed]",
      "text/plain": [
       "<matplotlib.figure.Figure at 0x109f85be0>"
      ]
     },
     "metadata": {},
     "output_type": "display_data"
    }
   ],
   "source": [
    "# Visualize the learned weights for each class\n",
    "w = best_softmax.W[:-1,:] # strip out the bias\n",
    "w = w.reshape(32, 32, 3, 10)\n",
    "\n",
    "w_min, w_max = np.min(w), np.max(w)\n",
    "\n",
    "classes = ['plane', 'car', 'bird', 'cat', 'deer', 'dog', 'frog', 'horse', 'ship', 'truck']\n",
    "for i in range(10):\n",
    "    plt.subplot(2, 5, i + 1)\n",
    "    \n",
    "    # Rescale the weights to be between 0 and 255\n",
    "    wimg = 255.0 * (w[:, :, :, i].squeeze() - w_min) / (w_max - w_min)\n",
    "    plt.imshow(wimg.astype('uint8'))\n",
    "    plt.axis('off')\n",
    "    plt.title(classes[i])"
   ]
  }
 ],
 "metadata": {
  "kernelspec": {
   "display_name": "Python 3",
   "language": "python",
   "name": "python3"
  },
  "language_info": {
   "codemirror_mode": {
    "name": "ipython",
    "version": 3
   },
   "file_extension": ".py",
   "mimetype": "text/x-python",
   "name": "python",
   "nbconvert_exporter": "python",
   "pygments_lexer": "ipython3",
   "version": "3.6.4"
  }
 },
 "nbformat": 4,
 "nbformat_minor": 1
}
